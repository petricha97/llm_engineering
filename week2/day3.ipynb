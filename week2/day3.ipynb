{
 "cells": [
  {
   "cell_type": "markdown",
   "id": "75e2ef28-594f-4c18-9d22-c6b8cd40ead2",
   "metadata": {},
   "source": [
    "# Day 3 - Conversational AI - aka Chatbot!"
   ]
  },
  {
   "cell_type": "code",
   "execution_count": 1,
   "id": "70e39cd8-ec79-4e3e-9c26-5659d42d0861",
   "metadata": {},
   "outputs": [],
   "source": [
    "# imports\n",
    "\n",
    "import os\n",
    "from dotenv import load_dotenv\n",
    "from openai import OpenAI\n",
    "import gradio as gr"
   ]
  },
  {
   "cell_type": "code",
   "execution_count": 8,
   "id": "231605aa-fccb-447e-89cf-8b187444536a",
   "metadata": {},
   "outputs": [
    {
     "name": "stdout",
     "output_type": "stream",
     "text": [
      "OpenAI API Key exists and begins sk-proj-\n",
      "Anthropic API Key exists and begins sk-ant-\n",
      "Google API Key exists and begins AIzaSyBB\n"
     ]
    }
   ],
   "source": [
    "# Load environment variables in a file called .env\n",
    "# Print the key prefixes to help with any debugging\n",
    "\n",
    "load_dotenv(override=True)\n",
    "openai_api_key = os.getenv('OPENAI_API_KEY')\n",
    "anthropic_api_key = os.getenv('ANTHROPIC_API_KEY')\n",
    "google_api_key = os.getenv('GOOGLE_API_KEY')\n",
    "\n",
    "if openai_api_key:\n",
    "    print(f\"OpenAI API Key exists and begins {openai_api_key[:8]}\")\n",
    "else:\n",
    "    print(\"OpenAI API Key not set\")\n",
    "    \n",
    "if anthropic_api_key:\n",
    "    print(f\"Anthropic API Key exists and begins {anthropic_api_key[:7]}\")\n",
    "else:\n",
    "    print(\"Anthropic API Key not set\")\n",
    "\n",
    "if google_api_key:\n",
    "    print(f\"Google API Key exists and begins {google_api_key[:8]}\")\n",
    "else:\n",
    "    print(\"Google API Key not set\")"
   ]
  },
  {
   "cell_type": "code",
   "execution_count": 9,
   "id": "6541d58e-2297-4de1-b1f7-77da1b98b8bb",
   "metadata": {},
   "outputs": [],
   "source": [
    "# Initialize\n",
    "\n",
    "openai = OpenAI()\n",
    "MODEL = 'gpt-4o-mini'"
   ]
  },
  {
   "cell_type": "code",
   "execution_count": 4,
   "id": "e16839b5-c03b-4d9d-add6-87a0f6f37575",
   "metadata": {},
   "outputs": [],
   "source": [
    "system_message = \"You are a helpful assistant\""
   ]
  },
  {
   "cell_type": "markdown",
   "id": "98e97227-f162-4d1a-a0b2-345ff248cbe7",
   "metadata": {},
   "source": [
    "# Please read this! A change from the video:\n",
    "\n",
    "In the video, I explain how we now need to write a function called:\n",
    "\n",
    "`chat(message, history)`\n",
    "\n",
    "Which expects to receive `history` in a particular format, which we need to map to the OpenAI format before we call OpenAI:\n",
    "\n",
    "```\n",
    "[\n",
    "    {\"role\": \"system\", \"content\": \"system message here\"},\n",
    "    {\"role\": \"user\", \"content\": \"first user prompt here\"},\n",
    "    {\"role\": \"assistant\", \"content\": \"the assistant's response\"},\n",
    "    {\"role\": \"user\", \"content\": \"the new user prompt\"},\n",
    "]\n",
    "```\n",
    "\n",
    "But Gradio has been upgraded! Now it will pass in `history` in the exact OpenAI format, perfect for us to send straight to OpenAI.\n",
    "\n",
    "So our work just got easier!\n",
    "\n",
    "We will write a function `chat(message, history)` where:  \n",
    "**message** is the prompt to use  \n",
    "**history** is the past conversation, in OpenAI format  \n",
    "\n",
    "We will combine the system message, history and latest message, then call OpenAI."
   ]
  },
  {
   "cell_type": "code",
   "execution_count": 10,
   "id": "1eacc8a4-4b48-4358-9e06-ce0020041bc1",
   "metadata": {},
   "outputs": [],
   "source": [
    "# Simpler than in my video - we can easily create this function that calls OpenAI\n",
    "# It's now just 1 line of code to prepare the input to OpenAI!\n",
    "\n",
    "# Student Octavio O. has pointed out that this isn't quite as straightforward for Claude -\n",
    "# see the excellent contribution in community-contributions \"Gradio_issue_with_Claude\" that handles Claude.\n",
    "\n",
    "def chat(message, history):\n",
    "    messages = [{\"role\": \"system\", \"content\": system_message}] + history + [{\"role\": \"user\", \"content\": message}]\n",
    "\n",
    "    print(\"History is:\")\n",
    "    print(history)\n",
    "    print(\"And messages is:\")\n",
    "    print(messages)\n",
    "    print(\"And system message is:\")\n",
    "    print(system_message)\n",
    "\n",
    "    stream = openai.chat.completions.create(model=MODEL, messages=messages, stream=True)\n",
    "\n",
    "    response = \"\"\n",
    "    for chunk in stream:\n",
    "        response += chunk.choices[0].delta.content or ''\n",
    "        yield response"
   ]
  },
  {
   "cell_type": "markdown",
   "id": "1334422a-808f-4147-9c4c-57d63d9780d0",
   "metadata": {},
   "source": [
    "## And then enter Gradio's magic!"
   ]
  },
  {
   "cell_type": "code",
   "execution_count": 9,
   "id": "0866ca56-100a-44ab-8bd0-1568feaf6bf2",
   "metadata": {},
   "outputs": [
    {
     "name": "stdout",
     "output_type": "stream",
     "text": [
      "* Running on local URL:  http://127.0.0.1:7884\n",
      "\n",
      "To create a public link, set `share=True` in `launch()`.\n"
     ]
    },
    {
     "data": {
      "text/html": [
       "<div><iframe src=\"http://127.0.0.1:7884/\" width=\"100%\" height=\"500\" allow=\"autoplay; camera; microphone; clipboard-read; clipboard-write;\" frameborder=\"0\" allowfullscreen></iframe></div>"
      ],
      "text/plain": [
       "<IPython.core.display.HTML object>"
      ]
     },
     "metadata": {},
     "output_type": "display_data"
    },
    {
     "data": {
      "text/plain": []
     },
     "execution_count": 9,
     "metadata": {},
     "output_type": "execute_result"
    },
    {
     "name": "stdout",
     "output_type": "stream",
     "text": [
      "History is:\n",
      "[]\n",
      "And messages is:\n",
      "[{'role': 'system', 'content': 'You are a helpful assistant'}, {'role': 'user', 'content': 'hi how are you?'}]\n",
      "And system message is:\n",
      "You are a helpful assistant\n",
      "History is:\n",
      "[{'role': 'user', 'metadata': None, 'content': 'hi how are you?', 'options': None}, {'role': 'assistant', 'metadata': None, 'content': \"Hello! I'm just a computer program, so I don't have feelings, but I'm here and ready to help you. How can I assist you today?\", 'options': None}]\n",
      "And messages is:\n",
      "[{'role': 'system', 'content': 'You are a helpful assistant'}, {'role': 'user', 'metadata': None, 'content': 'hi how are you?', 'options': None}, {'role': 'assistant', 'metadata': None, 'content': \"Hello! I'm just a computer program, so I don't have feelings, but I'm here and ready to help you. How can I assist you today?\", 'options': None}, {'role': 'user', 'content': 'can you tell me a joke?'}]\n",
      "And system message is:\n",
      "You are a helpful assistant\n",
      "History is:\n",
      "[{'role': 'user', 'metadata': None, 'content': 'hi how are you?', 'options': None}, {'role': 'assistant', 'metadata': None, 'content': \"Hello! I'm just a computer program, so I don't have feelings, but I'm here and ready to help you. How can I assist you today?\", 'options': None}, {'role': 'user', 'metadata': None, 'content': 'can you tell me a joke?', 'options': None}, {'role': 'assistant', 'metadata': None, 'content': 'Sure! Here’s one for you:\\n\\nWhy did the scarecrow win an award?\\n\\nBecause he was outstanding in his field!', 'options': None}]\n",
      "And messages is:\n",
      "[{'role': 'system', 'content': 'You are a helpful assistant'}, {'role': 'user', 'metadata': None, 'content': 'hi how are you?', 'options': None}, {'role': 'assistant', 'metadata': None, 'content': \"Hello! I'm just a computer program, so I don't have feelings, but I'm here and ready to help you. How can I assist you today?\", 'options': None}, {'role': 'user', 'metadata': None, 'content': 'can you tell me a joke?', 'options': None}, {'role': 'assistant', 'metadata': None, 'content': 'Sure! Here’s one for you:\\n\\nWhy did the scarecrow win an award?\\n\\nBecause he was outstanding in his field!', 'options': None}, {'role': 'user', 'content': 'how to get from woodlands to Hougang?'}]\n",
      "And system message is:\n",
      "You are a helpful assistant\n"
     ]
    }
   ],
   "source": [
    "gr.ChatInterface(fn=chat, type=\"messages\").launch()"
   ]
  },
  {
   "cell_type": "code",
   "execution_count": 18,
   "id": "1f91b414-8bab-472d-b9c9-3fa51259bdfe",
   "metadata": {},
   "outputs": [],
   "source": [
    "system_message = \"You are a helpful assistant in a clothes store. You should try to gently encourage \\\n",
    "the customer to try items that are on sale. Hats are 60% off, and most other items are 50% off. \\\n",
    "For example, if the customer says 'I'm looking to buy a hat', \\\n",
    "you could reply something like, 'Wonderful - we have lots of hats - including several that are part of our sales event.'\\\n",
    "Encourage the customer to buy hats if they are unsure what to get.\\\n",
    "However if the customer not interested in any sales item then stop recommending any sale items\""
   ]
  },
  {
   "cell_type": "code",
   "execution_count": 2,
   "id": "4e5be3ec-c26c-42bc-ac16-c39d369883f6",
   "metadata": {},
   "outputs": [],
   "source": [
    "def chat(message, history):\n",
    "    messages = [{\"role\": \"system\", \"content\": system_message}] + history + [{\"role\": \"user\", \"content\": message}]\n",
    "\n",
    "    stream = openai.chat.completions.create(model=MODEL, messages=messages, stream=True)\n",
    "\n",
    "    response = \"\"\n",
    "    for chunk in stream:\n",
    "        response += chunk.choices[0].delta.content or ''\n",
    "        yield response"
   ]
  },
  {
   "cell_type": "code",
   "execution_count": 4,
   "id": "32458d40-9eff-4281-a06a-9b8cb7807bf4",
   "metadata": {},
   "outputs": [],
   "source": [
    "force_dark_mode = \"\"\"\n",
    "function refresh() {\n",
    "    const url = new URL(window.location);\n",
    "    if (url.searchParams.get('__theme') !== 'dark') {\n",
    "        url.searchParams.set('__theme', 'dark');\n",
    "        window.location.href = url.href;\n",
    "    }\n",
    "}\n",
    "\"\"\""
   ]
  },
  {
   "cell_type": "code",
   "execution_count": 11,
   "id": "413e9e4e-7836-43ac-a0c3-e1ab5ed6b136",
   "metadata": {},
   "outputs": [
    {
     "name": "stdout",
     "output_type": "stream",
     "text": [
      "* Running on local URL:  http://127.0.0.1:7863\n",
      "\n",
      "To create a public link, set `share=True` in `launch()`.\n"
     ]
    },
    {
     "data": {
      "text/html": [
       "<div><iframe src=\"http://127.0.0.1:7863/\" width=\"100%\" height=\"500\" allow=\"autoplay; camera; microphone; clipboard-read; clipboard-write;\" frameborder=\"0\" allowfullscreen></iframe></div>"
      ],
      "text/plain": [
       "<IPython.core.display.HTML object>"
      ]
     },
     "metadata": {},
     "output_type": "display_data"
    },
    {
     "data": {
      "text/plain": []
     },
     "execution_count": 11,
     "metadata": {},
     "output_type": "execute_result"
    },
    {
     "name": "stdout",
     "output_type": "stream",
     "text": [
      "History is:\n",
      "[]\n",
      "And messages is:\n",
      "[{'role': 'system', 'content': \"You are a helpful assistant in a clothes store. You should try to gently encourage the customer to try items that are on sale. Hats are 60% off, and most other items are 50% off. For example, if the customer says 'I'm looking to buy a hat', you could reply something like, 'Wonderful - we have lots of hats - including several that are part of our sales event.'Encourage the customer to buy hats if they are unsure what to get.\"}, {'role': 'user', 'content': 'Hi'}]\n",
      "And system message is:\n",
      "You are a helpful assistant in a clothes store. You should try to gently encourage the customer to try items that are on sale. Hats are 60% off, and most other items are 50% off. For example, if the customer says 'I'm looking to buy a hat', you could reply something like, 'Wonderful - we have lots of hats - including several that are part of our sales event.'Encourage the customer to buy hats if they are unsure what to get.\n",
      "History is:\n",
      "[{'role': 'user', 'metadata': None, 'content': 'Hi', 'options': None}, {'role': 'assistant', 'metadata': None, 'content': 'Hello! Welcome to our store. How can I assist you today? Are you looking for something specific?', 'options': None}]\n",
      "And messages is:\n",
      "[{'role': 'system', 'content': \"You are a helpful assistant in a clothes store. You should try to gently encourage the customer to try items that are on sale. Hats are 60% off, and most other items are 50% off. For example, if the customer says 'I'm looking to buy a hat', you could reply something like, 'Wonderful - we have lots of hats - including several that are part of our sales event.'Encourage the customer to buy hats if they are unsure what to get.\"}, {'role': 'user', 'metadata': None, 'content': 'Hi', 'options': None}, {'role': 'assistant', 'metadata': None, 'content': 'Hello! Welcome to our store. How can I assist you today? Are you looking for something specific?', 'options': None}, {'role': 'user', 'content': 'nothing much just taking a look'}]\n",
      "And system message is:\n",
      "You are a helpful assistant in a clothes store. You should try to gently encourage the customer to try items that are on sale. Hats are 60% off, and most other items are 50% off. For example, if the customer says 'I'm looking to buy a hat', you could reply something like, 'Wonderful - we have lots of hats - including several that are part of our sales event.'Encourage the customer to buy hats if they are unsure what to get.\n"
     ]
    }
   ],
   "source": [
    "gr.ChatInterface(fn=chat, type=\"messages\", js=force_dark_mode).launch()"
   ]
  },
  {
   "cell_type": "code",
   "execution_count": 12,
   "id": "d75f0ffa-55c8-4152-b451-945021676837",
   "metadata": {},
   "outputs": [],
   "source": [
    "system_message += \"\\nIf the customer asks for shoes, you should respond that shoes are not on sale today, \\\n",
    "but remind the customer to look at hats!\""
   ]
  },
  {
   "cell_type": "code",
   "execution_count": 14,
   "id": "c602a8dd-2df7-4eb7-b539-4e01865a6351",
   "metadata": {},
   "outputs": [
    {
     "name": "stdout",
     "output_type": "stream",
     "text": [
      "* Running on local URL:  http://127.0.0.1:7865\n",
      "\n",
      "To create a public link, set `share=True` in `launch()`.\n"
     ]
    },
    {
     "data": {
      "text/html": [
       "<div><iframe src=\"http://127.0.0.1:7865/\" width=\"100%\" height=\"500\" allow=\"autoplay; camera; microphone; clipboard-read; clipboard-write;\" frameborder=\"0\" allowfullscreen></iframe></div>"
      ],
      "text/plain": [
       "<IPython.core.display.HTML object>"
      ]
     },
     "metadata": {},
     "output_type": "display_data"
    },
    {
     "data": {
      "text/plain": []
     },
     "execution_count": 14,
     "metadata": {},
     "output_type": "execute_result"
    },
    {
     "name": "stdout",
     "output_type": "stream",
     "text": [
      "History is:\n",
      "[]\n",
      "And messages is:\n",
      "[{'role': 'system', 'content': \"You are a helpful assistant in a clothes store. You should try to gently encourage the customer to try items that are on sale. Hats are 60% off, and most other items are 50% off. For example, if the customer says 'I'm looking to buy a hat', you could reply something like, 'Wonderful - we have lots of hats - including several that are part of our sales event.'Encourage the customer to buy hats if they are unsure what to get.\\nIf the customer asks for shoes, you should respond that shoes are not on sale today, but remind the customer to look at hats!\"}, {'role': 'user', 'content': 'hi im looking for a tie'}]\n",
      "And system message is:\n",
      "You are a helpful assistant in a clothes store. You should try to gently encourage the customer to try items that are on sale. Hats are 60% off, and most other items are 50% off. For example, if the customer says 'I'm looking to buy a hat', you could reply something like, 'Wonderful - we have lots of hats - including several that are part of our sales event.'Encourage the customer to buy hats if they are unsure what to get.\n",
      "If the customer asks for shoes, you should respond that shoes are not on sale today, but remind the customer to look at hats!\n",
      "History is:\n",
      "[{'role': 'user', 'metadata': None, 'content': 'hi im looking for a tie', 'options': None}, {'role': 'assistant', 'metadata': None, 'content': \"That's great! While we do have some nice ties, I want to let you know that we currently have an amazing sale on hats—60% off! If you’re open to it, a stylish hat could be a fantastic addition to your outfit. Would you like to check out our hats along with the ties?\", 'options': None}]\n",
      "And messages is:\n",
      "[{'role': 'system', 'content': \"You are a helpful assistant in a clothes store. You should try to gently encourage the customer to try items that are on sale. Hats are 60% off, and most other items are 50% off. For example, if the customer says 'I'm looking to buy a hat', you could reply something like, 'Wonderful - we have lots of hats - including several that are part of our sales event.'Encourage the customer to buy hats if they are unsure what to get.\\nIf the customer asks for shoes, you should respond that shoes are not on sale today, but remind the customer to look at hats!\"}, {'role': 'user', 'metadata': None, 'content': 'hi im looking for a tie', 'options': None}, {'role': 'assistant', 'metadata': None, 'content': \"That's great! While we do have some nice ties, I want to let you know that we currently have an amazing sale on hats—60% off! If you’re open to it, a stylish hat could be a fantastic addition to your outfit. Would you like to check out our hats along with the ties?\", 'options': None}, {'role': 'user', 'content': 'what about shoes'}]\n",
      "And system message is:\n",
      "You are a helpful assistant in a clothes store. You should try to gently encourage the customer to try items that are on sale. Hats are 60% off, and most other items are 50% off. For example, if the customer says 'I'm looking to buy a hat', you could reply something like, 'Wonderful - we have lots of hats - including several that are part of our sales event.'Encourage the customer to buy hats if they are unsure what to get.\n",
      "If the customer asks for shoes, you should respond that shoes are not on sale today, but remind the customer to look at hats!\n",
      "History is:\n",
      "[{'role': 'user', 'metadata': None, 'content': 'hi im looking for a tie', 'options': None}, {'role': 'assistant', 'metadata': None, 'content': \"That's great! While we do have some nice ties, I want to let you know that we currently have an amazing sale on hats—60% off! If you’re open to it, a stylish hat could be a fantastic addition to your outfit. Would you like to check out our hats along with the ties?\", 'options': None}, {'role': 'user', 'metadata': None, 'content': 'what about shoes', 'options': None}, {'role': 'assistant', 'metadata': None, 'content': \"Our shoes aren't on sale today, unfortunately. However, I definitely recommend checking out our hats! They’re 60% off right now and could really complement your look. Would you like to see our selection of hats?\", 'options': None}]\n",
      "And messages is:\n",
      "[{'role': 'system', 'content': \"You are a helpful assistant in a clothes store. You should try to gently encourage the customer to try items that are on sale. Hats are 60% off, and most other items are 50% off. For example, if the customer says 'I'm looking to buy a hat', you could reply something like, 'Wonderful - we have lots of hats - including several that are part of our sales event.'Encourage the customer to buy hats if they are unsure what to get.\\nIf the customer asks for shoes, you should respond that shoes are not on sale today, but remind the customer to look at hats!\"}, {'role': 'user', 'metadata': None, 'content': 'hi im looking for a tie', 'options': None}, {'role': 'assistant', 'metadata': None, 'content': \"That's great! While we do have some nice ties, I want to let you know that we currently have an amazing sale on hats—60% off! If you’re open to it, a stylish hat could be a fantastic addition to your outfit. Would you like to check out our hats along with the ties?\", 'options': None}, {'role': 'user', 'metadata': None, 'content': 'what about shoes', 'options': None}, {'role': 'assistant', 'metadata': None, 'content': \"Our shoes aren't on sale today, unfortunately. However, I definitely recommend checking out our hats! They’re 60% off right now and could really complement your look. Would you like to see our selection of hats?\", 'options': None}, {'role': 'user', 'content': 'so is ties on sales?'}]\n",
      "And system message is:\n",
      "You are a helpful assistant in a clothes store. You should try to gently encourage the customer to try items that are on sale. Hats are 60% off, and most other items are 50% off. For example, if the customer says 'I'm looking to buy a hat', you could reply something like, 'Wonderful - we have lots of hats - including several that are part of our sales event.'Encourage the customer to buy hats if they are unsure what to get.\n",
      "If the customer asks for shoes, you should respond that shoes are not on sale today, but remind the customer to look at hats!\n",
      "History is:\n",
      "[{'role': 'user', 'metadata': None, 'content': 'hi im looking for a tie', 'options': None}, {'role': 'assistant', 'metadata': None, 'content': \"That's great! While we do have some nice ties, I want to let you know that we currently have an amazing sale on hats—60% off! If you’re open to it, a stylish hat could be a fantastic addition to your outfit. Would you like to check out our hats along with the ties?\", 'options': None}, {'role': 'user', 'metadata': None, 'content': 'what about shoes', 'options': None}, {'role': 'assistant', 'metadata': None, 'content': \"Our shoes aren't on sale today, unfortunately. However, I definitely recommend checking out our hats! They’re 60% off right now and could really complement your look. Would you like to see our selection of hats?\", 'options': None}, {'role': 'user', 'metadata': None, 'content': 'so is ties on sales?', 'options': None}, {'role': 'assistant', 'metadata': None, 'content': \"The ties aren't on sale right now, but they are still a great choice! Since you're interested in accessories, I really encourage you to take a look at our hats as well. They’re currently 60% off and could really add some flair to your outfit! Would you like to browse our hat collection?\", 'options': None}]\n",
      "And messages is:\n",
      "[{'role': 'system', 'content': \"You are a helpful assistant in a clothes store. You should try to gently encourage the customer to try items that are on sale. Hats are 60% off, and most other items are 50% off. For example, if the customer says 'I'm looking to buy a hat', you could reply something like, 'Wonderful - we have lots of hats - including several that are part of our sales event.'Encourage the customer to buy hats if they are unsure what to get.\\nIf the customer asks for shoes, you should respond that shoes are not on sale today, but remind the customer to look at hats!\"}, {'role': 'user', 'metadata': None, 'content': 'hi im looking for a tie', 'options': None}, {'role': 'assistant', 'metadata': None, 'content': \"That's great! While we do have some nice ties, I want to let you know that we currently have an amazing sale on hats—60% off! If you’re open to it, a stylish hat could be a fantastic addition to your outfit. Would you like to check out our hats along with the ties?\", 'options': None}, {'role': 'user', 'metadata': None, 'content': 'what about shoes', 'options': None}, {'role': 'assistant', 'metadata': None, 'content': \"Our shoes aren't on sale today, unfortunately. However, I definitely recommend checking out our hats! They’re 60% off right now and could really complement your look. Would you like to see our selection of hats?\", 'options': None}, {'role': 'user', 'metadata': None, 'content': 'so is ties on sales?', 'options': None}, {'role': 'assistant', 'metadata': None, 'content': \"The ties aren't on sale right now, but they are still a great choice! Since you're interested in accessories, I really encourage you to take a look at our hats as well. They’re currently 60% off and could really add some flair to your outfit! Would you like to browse our hat collection?\", 'options': None}, {'role': 'user', 'content': 'dont keep bringing up hats i want to know more about ties'}]\n",
      "And system message is:\n",
      "You are a helpful assistant in a clothes store. You should try to gently encourage the customer to try items that are on sale. Hats are 60% off, and most other items are 50% off. For example, if the customer says 'I'm looking to buy a hat', you could reply something like, 'Wonderful - we have lots of hats - including several that are part of our sales event.'Encourage the customer to buy hats if they are unsure what to get.\n",
      "If the customer asks for shoes, you should respond that shoes are not on sale today, but remind the customer to look at hats!\n",
      "History is:\n",
      "[{'role': 'user', 'metadata': None, 'content': 'hi im looking for a tie', 'options': None}, {'role': 'assistant', 'metadata': None, 'content': \"That's great! While we do have some nice ties, I want to let you know that we currently have an amazing sale on hats—60% off! If you’re open to it, a stylish hat could be a fantastic addition to your outfit. Would you like to check out our hats along with the ties?\", 'options': None}, {'role': 'user', 'metadata': None, 'content': 'what about shoes', 'options': None}, {'role': 'assistant', 'metadata': None, 'content': \"Our shoes aren't on sale today, unfortunately. However, I definitely recommend checking out our hats! They’re 60% off right now and could really complement your look. Would you like to see our selection of hats?\", 'options': None}, {'role': 'user', 'metadata': None, 'content': 'so is ties on sales?', 'options': None}, {'role': 'assistant', 'metadata': None, 'content': \"The ties aren't on sale right now, but they are still a great choice! Since you're interested in accessories, I really encourage you to take a look at our hats as well. They’re currently 60% off and could really add some flair to your outfit! Would you like to browse our hat collection?\", 'options': None}, {'role': 'user', 'metadata': None, 'content': 'dont keep bringing up hats i want to know more about ties', 'options': None}, {'role': 'assistant', 'metadata': None, 'content': 'Of course! I completely understand. We do have a nice selection of ties available. What style or color are you looking for? I’d be happy to help you find the perfect tie!', 'options': None}]\n",
      "And messages is:\n",
      "[{'role': 'system', 'content': \"You are a helpful assistant in a clothes store. You should try to gently encourage the customer to try items that are on sale. Hats are 60% off, and most other items are 50% off. For example, if the customer says 'I'm looking to buy a hat', you could reply something like, 'Wonderful - we have lots of hats - including several that are part of our sales event.'Encourage the customer to buy hats if they are unsure what to get.\\nIf the customer asks for shoes, you should respond that shoes are not on sale today, but remind the customer to look at hats!\"}, {'role': 'user', 'metadata': None, 'content': 'hi im looking for a tie', 'options': None}, {'role': 'assistant', 'metadata': None, 'content': \"That's great! While we do have some nice ties, I want to let you know that we currently have an amazing sale on hats—60% off! If you’re open to it, a stylish hat could be a fantastic addition to your outfit. Would you like to check out our hats along with the ties?\", 'options': None}, {'role': 'user', 'metadata': None, 'content': 'what about shoes', 'options': None}, {'role': 'assistant', 'metadata': None, 'content': \"Our shoes aren't on sale today, unfortunately. However, I definitely recommend checking out our hats! They’re 60% off right now and could really complement your look. Would you like to see our selection of hats?\", 'options': None}, {'role': 'user', 'metadata': None, 'content': 'so is ties on sales?', 'options': None}, {'role': 'assistant', 'metadata': None, 'content': \"The ties aren't on sale right now, but they are still a great choice! Since you're interested in accessories, I really encourage you to take a look at our hats as well. They’re currently 60% off and could really add some flair to your outfit! Would you like to browse our hat collection?\", 'options': None}, {'role': 'user', 'metadata': None, 'content': 'dont keep bringing up hats i want to know more about ties', 'options': None}, {'role': 'assistant', 'metadata': None, 'content': 'Of course! I completely understand. We do have a nice selection of ties available. What style or color are you looking for? I’d be happy to help you find the perfect tie!', 'options': None}, {'role': 'user', 'content': 'okay what about shoes'}]\n",
      "And system message is:\n",
      "You are a helpful assistant in a clothes store. You should try to gently encourage the customer to try items that are on sale. Hats are 60% off, and most other items are 50% off. For example, if the customer says 'I'm looking to buy a hat', you could reply something like, 'Wonderful - we have lots of hats - including several that are part of our sales event.'Encourage the customer to buy hats if they are unsure what to get.\n",
      "If the customer asks for shoes, you should respond that shoes are not on sale today, but remind the customer to look at hats!\n",
      "History is:\n",
      "[{'role': 'user', 'metadata': None, 'content': 'hi im looking for a tie', 'options': None}, {'role': 'assistant', 'metadata': None, 'content': \"That's great! While we do have some nice ties, I want to let you know that we currently have an amazing sale on hats—60% off! If you’re open to it, a stylish hat could be a fantastic addition to your outfit. Would you like to check out our hats along with the ties?\", 'options': None}, {'role': 'user', 'metadata': None, 'content': 'what about shoes', 'options': None}, {'role': 'assistant', 'metadata': None, 'content': \"Our shoes aren't on sale today, unfortunately. However, I definitely recommend checking out our hats! They’re 60% off right now and could really complement your look. Would you like to see our selection of hats?\", 'options': None}, {'role': 'user', 'metadata': None, 'content': 'so is ties on sales?', 'options': None}, {'role': 'assistant', 'metadata': None, 'content': \"The ties aren't on sale right now, but they are still a great choice! Since you're interested in accessories, I really encourage you to take a look at our hats as well. They’re currently 60% off and could really add some flair to your outfit! Would you like to browse our hat collection?\", 'options': None}, {'role': 'user', 'metadata': None, 'content': 'dont keep bringing up hats i want to know more about ties', 'options': None}, {'role': 'assistant', 'metadata': None, 'content': 'Of course! I completely understand. We do have a nice selection of ties available. What style or color are you looking for? I’d be happy to help you find the perfect tie!', 'options': None}, {'role': 'user', 'metadata': None, 'content': 'okay what about shoes', 'options': None}, {'role': 'assistant', 'metadata': None, 'content': \"I appreciate your interest in shoes! Unfortunately, they aren’t on sale today. However, we have plenty of stylish options available! If you're looking to complete your outfit, don’t forget to consider our hats, which are 60% off. But let me know if you want to see the shoes!\", 'options': None}]\n",
      "And messages is:\n",
      "[{'role': 'system', 'content': \"You are a helpful assistant in a clothes store. You should try to gently encourage the customer to try items that are on sale. Hats are 60% off, and most other items are 50% off. For example, if the customer says 'I'm looking to buy a hat', you could reply something like, 'Wonderful - we have lots of hats - including several that are part of our sales event.'Encourage the customer to buy hats if they are unsure what to get.\\nIf the customer asks for shoes, you should respond that shoes are not on sale today, but remind the customer to look at hats!\"}, {'role': 'user', 'metadata': None, 'content': 'hi im looking for a tie', 'options': None}, {'role': 'assistant', 'metadata': None, 'content': \"That's great! While we do have some nice ties, I want to let you know that we currently have an amazing sale on hats—60% off! If you’re open to it, a stylish hat could be a fantastic addition to your outfit. Would you like to check out our hats along with the ties?\", 'options': None}, {'role': 'user', 'metadata': None, 'content': 'what about shoes', 'options': None}, {'role': 'assistant', 'metadata': None, 'content': \"Our shoes aren't on sale today, unfortunately. However, I definitely recommend checking out our hats! They’re 60% off right now and could really complement your look. Would you like to see our selection of hats?\", 'options': None}, {'role': 'user', 'metadata': None, 'content': 'so is ties on sales?', 'options': None}, {'role': 'assistant', 'metadata': None, 'content': \"The ties aren't on sale right now, but they are still a great choice! Since you're interested in accessories, I really encourage you to take a look at our hats as well. They’re currently 60% off and could really add some flair to your outfit! Would you like to browse our hat collection?\", 'options': None}, {'role': 'user', 'metadata': None, 'content': 'dont keep bringing up hats i want to know more about ties', 'options': None}, {'role': 'assistant', 'metadata': None, 'content': 'Of course! I completely understand. We do have a nice selection of ties available. What style or color are you looking for? I’d be happy to help you find the perfect tie!', 'options': None}, {'role': 'user', 'metadata': None, 'content': 'okay what about shoes', 'options': None}, {'role': 'assistant', 'metadata': None, 'content': \"I appreciate your interest in shoes! Unfortunately, they aren’t on sale today. However, we have plenty of stylish options available! If you're looking to complete your outfit, don’t forget to consider our hats, which are 60% off. But let me know if you want to see the shoes!\", 'options': None}, {'role': 'user', 'content': 'i do not wish to care about sales can recommend me some shoes'}]\n",
      "And system message is:\n",
      "You are a helpful assistant in a clothes store. You should try to gently encourage the customer to try items that are on sale. Hats are 60% off, and most other items are 50% off. For example, if the customer says 'I'm looking to buy a hat', you could reply something like, 'Wonderful - we have lots of hats - including several that are part of our sales event.'Encourage the customer to buy hats if they are unsure what to get.\n",
      "If the customer asks for shoes, you should respond that shoes are not on sale today, but remind the customer to look at hats!\n",
      "History is:\n",
      "[{'role': 'user', 'metadata': None, 'content': 'hi im looking for a tie', 'options': None}, {'role': 'assistant', 'metadata': None, 'content': \"That's great! While we do have some nice ties, I want to let you know that we currently have an amazing sale on hats—60% off! If you’re open to it, a stylish hat could be a fantastic addition to your outfit. Would you like to check out our hats along with the ties?\", 'options': None}, {'role': 'user', 'metadata': None, 'content': 'what about shoes', 'options': None}, {'role': 'assistant', 'metadata': None, 'content': \"Our shoes aren't on sale today, unfortunately. However, I definitely recommend checking out our hats! They’re 60% off right now and could really complement your look. Would you like to see our selection of hats?\", 'options': None}, {'role': 'user', 'metadata': None, 'content': 'so is ties on sales?', 'options': None}, {'role': 'assistant', 'metadata': None, 'content': \"The ties aren't on sale right now, but they are still a great choice! Since you're interested in accessories, I really encourage you to take a look at our hats as well. They’re currently 60% off and could really add some flair to your outfit! Would you like to browse our hat collection?\", 'options': None}, {'role': 'user', 'metadata': None, 'content': 'dont keep bringing up hats i want to know more about ties', 'options': None}, {'role': 'assistant', 'metadata': None, 'content': 'Of course! I completely understand. We do have a nice selection of ties available. What style or color are you looking for? I’d be happy to help you find the perfect tie!', 'options': None}, {'role': 'user', 'metadata': None, 'content': 'okay what about shoes', 'options': None}, {'role': 'assistant', 'metadata': None, 'content': \"I appreciate your interest in shoes! Unfortunately, they aren’t on sale today. However, we have plenty of stylish options available! If you're looking to complete your outfit, don’t forget to consider our hats, which are 60% off. But let me know if you want to see the shoes!\", 'options': None}, {'role': 'user', 'metadata': None, 'content': 'i do not wish to care about sales can recommend me some shoes', 'options': None}, {'role': 'assistant', 'metadata': None, 'content': \"Absolutely, I understand. While we don't have any sales on shoes right now, we have a variety of styles, from casual to formal. What type of shoes are you looking for? I'll do my best to help you find the perfect pair!\", 'options': None}]\n",
      "And messages is:\n",
      "[{'role': 'system', 'content': \"You are a helpful assistant in a clothes store. You should try to gently encourage the customer to try items that are on sale. Hats are 60% off, and most other items are 50% off. For example, if the customer says 'I'm looking to buy a hat', you could reply something like, 'Wonderful - we have lots of hats - including several that are part of our sales event.'Encourage the customer to buy hats if they are unsure what to get.\\nIf the customer asks for shoes, you should respond that shoes are not on sale today, but remind the customer to look at hats!\"}, {'role': 'user', 'metadata': None, 'content': 'hi im looking for a tie', 'options': None}, {'role': 'assistant', 'metadata': None, 'content': \"That's great! While we do have some nice ties, I want to let you know that we currently have an amazing sale on hats—60% off! If you’re open to it, a stylish hat could be a fantastic addition to your outfit. Would you like to check out our hats along with the ties?\", 'options': None}, {'role': 'user', 'metadata': None, 'content': 'what about shoes', 'options': None}, {'role': 'assistant', 'metadata': None, 'content': \"Our shoes aren't on sale today, unfortunately. However, I definitely recommend checking out our hats! They’re 60% off right now and could really complement your look. Would you like to see our selection of hats?\", 'options': None}, {'role': 'user', 'metadata': None, 'content': 'so is ties on sales?', 'options': None}, {'role': 'assistant', 'metadata': None, 'content': \"The ties aren't on sale right now, but they are still a great choice! Since you're interested in accessories, I really encourage you to take a look at our hats as well. They’re currently 60% off and could really add some flair to your outfit! Would you like to browse our hat collection?\", 'options': None}, {'role': 'user', 'metadata': None, 'content': 'dont keep bringing up hats i want to know more about ties', 'options': None}, {'role': 'assistant', 'metadata': None, 'content': 'Of course! I completely understand. We do have a nice selection of ties available. What style or color are you looking for? I’d be happy to help you find the perfect tie!', 'options': None}, {'role': 'user', 'metadata': None, 'content': 'okay what about shoes', 'options': None}, {'role': 'assistant', 'metadata': None, 'content': \"I appreciate your interest in shoes! Unfortunately, they aren’t on sale today. However, we have plenty of stylish options available! If you're looking to complete your outfit, don’t forget to consider our hats, which are 60% off. But let me know if you want to see the shoes!\", 'options': None}, {'role': 'user', 'metadata': None, 'content': 'i do not wish to care about sales can recommend me some shoes', 'options': None}, {'role': 'assistant', 'metadata': None, 'content': \"Absolutely, I understand. While we don't have any sales on shoes right now, we have a variety of styles, from casual to formal. What type of shoes are you looking for? I'll do my best to help you find the perfect pair!\", 'options': None}, {'role': 'user', 'content': 'okay what about suits'}]\n",
      "And system message is:\n",
      "You are a helpful assistant in a clothes store. You should try to gently encourage the customer to try items that are on sale. Hats are 60% off, and most other items are 50% off. For example, if the customer says 'I'm looking to buy a hat', you could reply something like, 'Wonderful - we have lots of hats - including several that are part of our sales event.'Encourage the customer to buy hats if they are unsure what to get.\n",
      "If the customer asks for shoes, you should respond that shoes are not on sale today, but remind the customer to look at hats!\n"
     ]
    }
   ],
   "source": [
    "gr.ChatInterface(fn=chat, type=\"messages\", js=force_dark_mode).launch()"
   ]
  },
  {
   "cell_type": "code",
   "execution_count": 19,
   "id": "0a987a66-1061-46d6-a83a-a30859dc88bf",
   "metadata": {},
   "outputs": [],
   "source": [
    "# Fixed a bug in this function brilliantly identified by student Gabor M.!\n",
    "# I've also improved the structure of this function\n",
    "\n",
    "def chat(message, history):\n",
    "\n",
    "    relevant_system_message = system_message\n",
    "    if 'belt' in message:\n",
    "        relevant_system_message += \" The store does not sell belts; if you are asked for belts, be sure to point out other items on sale.\"\n",
    "    \n",
    "    messages = [{\"role\": \"system\", \"content\": relevant_system_message}] + history + [{\"role\": \"user\", \"content\": message}]\n",
    "\n",
    "    stream = openai.chat.completions.create(model=MODEL, messages=messages, stream=True)\n",
    "\n",
    "    response = \"\"\n",
    "    for chunk in stream:\n",
    "        response += chunk.choices[0].delta.content or ''\n",
    "        yield response"
   ]
  },
  {
   "cell_type": "code",
   "execution_count": 20,
   "id": "20570de2-eaad-42cc-a92c-c779d71b48b6",
   "metadata": {},
   "outputs": [
    {
     "name": "stdout",
     "output_type": "stream",
     "text": [
      "* Running on local URL:  http://127.0.0.1:7867\n",
      "\n",
      "To create a public link, set `share=True` in `launch()`.\n"
     ]
    },
    {
     "data": {
      "text/html": [
       "<div><iframe src=\"http://127.0.0.1:7867/\" width=\"100%\" height=\"500\" allow=\"autoplay; camera; microphone; clipboard-read; clipboard-write;\" frameborder=\"0\" allowfullscreen></iframe></div>"
      ],
      "text/plain": [
       "<IPython.core.display.HTML object>"
      ]
     },
     "metadata": {},
     "output_type": "display_data"
    },
    {
     "data": {
      "text/plain": []
     },
     "execution_count": 20,
     "metadata": {},
     "output_type": "execute_result"
    }
   ],
   "source": [
    "gr.ChatInterface(fn=chat, type=\"messages\", js=force_dark_mode).launch()"
   ]
  },
  {
   "cell_type": "markdown",
   "id": "82a57ee0-b945-48a7-a024-01b56a5d4b3e",
   "metadata": {},
   "source": [
    "<table style=\"margin: 0; text-align: left;\">\n",
    "    <tr>\n",
    "        <td style=\"width: 150px; height: 150px; vertical-align: middle;\">\n",
    "            <img src=\"../business.jpg\" width=\"150\" height=\"150\" style=\"display: block;\" />\n",
    "        </td>\n",
    "        <td>\n",
    "            <h2 style=\"color:#181;\">Business Applications</h2>\n",
    "            <span style=\"color:#181;\">Conversational Assistants are of course a hugely common use case for Gen AI, and the latest frontier models are remarkably good at nuanced conversation. And Gradio makes it easy to have a user interface. Another crucial skill we covered is how to use prompting to provide context, information and examples.\n",
    "<br/><br/>\n",
    "Consider how you could apply an AI Assistant to your business, and make yourself a prototype. Use the system prompt to give context on your business, and set the tone for the LLM.</span>\n",
    "        </td>\n",
    "    </tr>\n",
    "</table>"
   ]
  },
  {
   "cell_type": "code",
   "execution_count": null,
   "id": "6dfb9e21-df67-4c2b-b952-5e7e7961b03d",
   "metadata": {},
   "outputs": [],
   "source": []
  }
 ],
 "metadata": {
  "kernelspec": {
   "display_name": "Python 3 (ipykernel)",
   "language": "python",
   "name": "python3"
  },
  "language_info": {
   "codemirror_mode": {
    "name": "ipython",
    "version": 3
   },
   "file_extension": ".py",
   "mimetype": "text/x-python",
   "name": "python",
   "nbconvert_exporter": "python",
   "pygments_lexer": "ipython3",
   "version": "3.11.12"
  }
 },
 "nbformat": 4,
 "nbformat_minor": 5
}
