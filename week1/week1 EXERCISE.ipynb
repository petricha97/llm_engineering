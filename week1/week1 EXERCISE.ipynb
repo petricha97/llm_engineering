{
 "cells": [
  {
   "cell_type": "markdown",
   "id": "fe12c203-e6a6-452c-a655-afb8a03a4ff5",
   "metadata": {},
   "source": [
    "# End of week 1 exercise\n",
    "\n",
    "To demonstrate your familiarity with OpenAI API, and also Ollama, build a tool that takes a technical question,  \n",
    "and responds with an explanation. This is a tool that you will be able to use yourself during the course!"
   ]
  },
  {
   "cell_type": "code",
   "execution_count": 1,
   "id": "c1070317-3ed9-4659-abe3-828943230e03",
   "metadata": {},
   "outputs": [],
   "source": [
    "# imports\n",
    "import os\n",
    "from typing import List\n",
    "from dotenv import load_dotenv\n",
    "from bs4 import BeautifulSoup\n",
    "from IPython.display import Markdown, display, update_display\n",
    "from openai import OpenAI"
   ]
  },
  {
   "cell_type": "code",
   "execution_count": 2,
   "id": "783c1cf0-61bc-4fd3-9c47-02ff81e8ae40",
   "metadata": {},
   "outputs": [],
   "source": [
    "#get API Key\n",
    "load_dotenv(override=True)\n",
    "api_key = os.getenv('OPENAI_API_KEY')\n",
    "\n",
    "if not(api_key and api_key.startswith('sk-proj-') and len(api_key)>10):\n",
    "    print(\"There might be a problem with your API key? Please visit the troubleshooting notebook!\")\n",
    "    "
   ]
  },
  {
   "cell_type": "code",
   "execution_count": 3,
   "id": "4a456906-915a-4bfd-bb9d-57e505c5093f",
   "metadata": {},
   "outputs": [],
   "source": [
    "# constants\n",
    "\n",
    "MODEL_GPT = 'gpt-4o-mini'\n",
    "MODEL_LLAMA = 'llama3.2'\n",
    "\n",
    "openai = OpenAI()\n",
    "ollama_via_openai = OpenAI(base_url='http://localhost:11434/v1', api_key='ollama')\n"
   ]
  },
  {
   "cell_type": "markdown",
   "id": "6e929535-c5e6-4c1c-884e-35d6c9af29fc",
   "metadata": {},
   "source": [
    "# set up environment\n",
    "\n",
    "System prompt and user prompt"
   ]
  },
  {
   "cell_type": "code",
   "execution_count": 4,
   "id": "06812963-d83d-4a11-bea6-c2f5b7d649ec",
   "metadata": {},
   "outputs": [],
   "source": [
    "system_prompt = \"You are very clever helper helping a student for any of his queries. \\\n",
    "You are to be guiding and encouraging to the question, \\\n",
    "and always give example to allow student to better understand.\\n\""
   ]
  },
  {
   "cell_type": "code",
   "execution_count": 5,
   "id": "3d4ced32-7c3c-4853-a81a-630496bdf58b",
   "metadata": {},
   "outputs": [],
   "source": [
    "def user_prompt_for(question):\n",
    "    user_prompt = f\"You are understanding the question {question}\"\n",
    "    user_prompt += \"please provide detail guide in markdown. \\\n",
    "That explain the answer to the question and \\\n",
    "Provide detailed example to enforce the learning. \\n\\n\"\n",
    "    return user_prompt"
   ]
  },
  {
   "cell_type": "code",
   "execution_count": 6,
   "id": "3f0d0137-52b0-47a8-81a8-11a90a010798",
   "metadata": {},
   "outputs": [],
   "source": [
    "# here is the question; type over this to ask something new\n",
    "\n",
    "question = \"\"\"\n",
    "Please explain what this code does and why:\n",
    "yield from {book.get(\"author\") for book in books if book.get(\"author\")}\n",
    "\"\"\""
   ]
  },
  {
   "cell_type": "code",
   "execution_count": 7,
   "id": "60ce7000-a4a5-4cce-a261-e75ef45063b4",
   "metadata": {},
   "outputs": [],
   "source": [
    "# Get gpt-4o-mini to answer, with streaming\n",
    "def stream_GPT(question):\n",
    "    stream = openai.chat.completions.create(\n",
    "        model=MODEL_GPT,\n",
    "        messages=[\n",
    "            {\"role\": \"system\", \"content\": system_prompt},\n",
    "            {\"role\": \"user\", \"content\": user_prompt_for(question)}\n",
    "          ],\n",
    "        stream=True\n",
    "    )\n",
    "    \n",
    "    response = \"\"\n",
    "    display_handle = display(Markdown(\"\"), display_id=True)\n",
    "    for chunk in stream:\n",
    "        response += chunk.choices[0].delta.content or ''\n",
    "        response = response.replace(\"```\",\"\").replace(\"markdown\", \"\")\n",
    "        update_display(Markdown(response), display_id=display_handle.display_id)"
   ]
  },
  {
   "cell_type": "code",
   "execution_count": 8,
   "id": "e441d45b-be5e-4b45-be3a-00284c5fec87",
   "metadata": {
    "scrolled": true
   },
   "outputs": [
    {
     "data": {
      "text/markdown": [
       "Certainly! Let's break down the code you provided step by step and provide an example to ensure understanding. Here's a detailed guide in  format.\n",
       "\n",
       "# Understanding the Code: `yield from {book.get(\"author\") for book in books if book.get(\"author\")}`\n",
       "\n",
       "## Introduction\n",
       "The code snippet uses Python's `yield from`, a feature that allows a generator to yield all values from an iterable. In this case, it is yielding from a set comprehension that extracts authors from a list of books. \n",
       "\n",
       "Before diving deep, let's clarify some components:\n",
       "\n",
       "1. **Generators**: Functions that allow you to make an iterator in a more Pythonic way, using the `yield` keyword instead of `return`.\n",
       "2. **Set Comprehension**: A concise way to create sets in Python. It’s similar to list comprehension but creates a set instead, which means all items are unique.\n",
       "3. **`get` Method**: This is a dictionary method that retrieves a value associated with a specified key. If that key does not exist, it returns `None` (or a default value if specified).\n",
       "\n",
       "## Code Breakdown\n",
       "\n",
       "### Step 1: The Set Comprehension\n",
       "python\n",
       "{book.get(\"author\") for book in books if book.get(\"author\")}\n",
       "\n",
       "- **`for book in books`**: Loops through each `book` in the list `books`.\n",
       "- **`book.get(\"author\")`**: Fetches the value associated with the key `\"author\"` from each `book` dictionary.\n",
       "- **`if book.get(\"author\")`**: Ensures that only books that have an author (i.e., the author is not `None` or empty) are included in the set.\n",
       "\n",
       "### Step 2: Yielding from the Set\n",
       "- **`yield from`**: This keyword is used to yield all values produced by an iterable. By yielding from the resulting set, the generator returns each unique author found in the books.\n",
       "\n",
       "## Complete Example\n",
       "\n",
       "Let's illustrate with a complete example:\n",
       "\n",
       "python\n",
       "def get_authors(books):\n",
       "    yield from {book.get(\"author\") for book in books if book.get(\"author\")}\n",
       "\n",
       "# Example list of books\n",
       "books = [\n",
       "    {\"title\": \"Book One\", \"author\": \"Author A\"},\n",
       "    {\"title\": \"Book Two\", \"author\": \"Author B\"},\n",
       "    {\"title\": \"Book Three\", \"author\": None},\n",
       "    {\"title\": \"Book Four\", \"author\": \"Author A\"},\n",
       "    {\"title\": \"Book Five\", \"author\": \"\"},\n",
       "]\n",
       "\n",
       "# Using the generator to get authors\n",
       "for author in get_authors(books):\n",
       "    print(author)\n",
       "\n",
       "\n",
       "### Expected Output:\n",
       "\n",
       "Author A\n",
       "Author B\n",
       "\n",
       "\n",
       "### Explanation of the Example:\n",
       "\n",
       "1. **Books List**: A list of dictionaries where each dictionary represents a book with a title and an author.\n",
       "2. **Function Definition**: We defined a generator function `get_authors(books)` that extracts authors from the `books` list.\n",
       "3. **Yielding Unique Authors**: The set comprehension:\n",
       "    - Collects authors, eliminating duplicates.\n",
       "    - Ignores books with no valid author.\n",
       "4. **Output**: When calling `get_authors(books)`, the loop prints the unique authors, `Author A` and `Author B`.\n",
       "\n",
       "## Conclusion\n",
       "This code is an efficient way to gather unique authors from a collection of books while ignoring those without an associated author. Using `yield from` with set comprehension helps keep the code clean and efficient. \n",
       "\n",
       "By practicing with different datasets, you'll get more comfortable with comprehensions and generators in Python! Feel free to ask if you need any more examples or further clarification!"
      ],
      "text/plain": [
       "<IPython.core.display.Markdown object>"
      ]
     },
     "metadata": {},
     "output_type": "display_data"
    }
   ],
   "source": [
    "stream_GPT(question)"
   ]
  },
  {
   "cell_type": "code",
   "execution_count": 9,
   "id": "8f7c8ea8-4082-4ad0-8751-3301adcf6538",
   "metadata": {},
   "outputs": [],
   "source": [
    "# Get Llama 3.2 to answer\n",
    "\n",
    "def stream_Ollama(question):\n",
    "    stream = ollama_via_openai.chat.completions.create(\n",
    "        model = MODEL_LLAMA,\n",
    "        messages=[\n",
    "            {\"role\": \"system\", \"content\": system_prompt},\n",
    "            {\"role\": \"user\", \"content\": user_prompt_for(question)}\n",
    "          ],\n",
    "        stream=True\n",
    "    )\n",
    "    response = \"\"\n",
    "    display_handle = display(Markdown(\"\"), display_id=True)\n",
    "    for chunk in stream:\n",
    "        response += chunk.choices[0].delta.content or ''\n",
    "        response = response.replace(\"```\",\"\").replace(\"markdown\", \"\")\n",
    "        update_display(Markdown(response), display_id=display_handle.display_id)"
   ]
  },
  {
   "cell_type": "code",
   "execution_count": 10,
   "id": "1004ce8d-86f1-413b-b617-cab302b20d1c",
   "metadata": {},
   "outputs": [
    {
     "data": {
      "text/markdown": [
       "**Generator Expression Explanation**\n",
       "======================================\n",
       "\n",
       "### Overview\n",
       "\n",
       "The given code snippet is a generator expression that uses `yield from` to iterate over specific data from an iterable object called `books`. We'll break down what each part does.\n",
       "\n",
       "### Code Breakdown\n",
       "\n",
       "python\n",
       "yield from {book.get(\"author\") for book in books if book.get(\"author\")}\n",
       "\n",
       "\n",
       "- **dict comprehension**: `<expr> for <iterable> if condition`\n",
       "  - Creates a new dictionary with the expression `book.get(\"author\")` applied to each element in the iterable `books`.\n",
       "  - The `{}` denotes a new dictionary.\n",
       "\n",
       "### Step-by-Step Explanation\n",
       "\n",
       "1. `books`: This is an iterable (likely a list or other collection).\n",
       "2. `for book in books if book.get(\"author\")`: This part filters out elements from the `books` iterable where `\"author\"` does not exist as a key.\n",
       "3. `{book.get(\"author\") for book in books if book.get(\"author\")}`: Within each remaining element, this expression uses `get()` to retrieve the `\"author\"` value inside that dictionary and yields it as an individual element in the new dictionary.\n",
       "\n",
       "### Behavior\n",
       "\n",
       "When you use `yield from`, instead of generating a single iterable or collection with those dictionary values, Python will 'generate' (i.e., yield one item at a time) each author name found within your books:\n",
       "\n",
       "- **`yield from`**: A part that turns another iterable into an iterator. \n",
       "    - In this case, it tells Python to take every individual value and add them to the final output.\n",
       "\n",
       "**Detailed Example**\n",
       "-------------------\n",
       "\n",
       "Let's assume we are working with two dictionaries (books) where each dictionary contains book information (`title` & `author`):\n",
       "\n",
       "python\n",
       "books = [\n",
       "    {\"id\": 1, \"title\": \"Book A\", \"author\": \"Author 1\"},\n",
       "    {\"id\": 2, \"title\": \"Book B\", \"author\": None},\n",
       "    {\"id\": 3, \"title\": \"Book C\", \"author\": \"Author 3\"}\n",
       "]\n",
       "\n",
       "book_author_values = {book.get(\"author\") for book in books if book.get(\"author\")}\n",
       "\n",
       "\n",
       "Here results the `{ 'Author 1', 'Author 3' }` because `None` was ignored from `\" author\" == None`."
      ],
      "text/plain": [
       "<IPython.core.display.Markdown object>"
      ]
     },
     "metadata": {},
     "output_type": "display_data"
    }
   ],
   "source": [
    "stream_Ollama(question)"
   ]
  }
 ],
 "metadata": {
  "kernelspec": {
   "display_name": "Python 3 (ipykernel)",
   "language": "python",
   "name": "python3"
  },
  "language_info": {
   "codemirror_mode": {
    "name": "ipython",
    "version": 3
   },
   "file_extension": ".py",
   "mimetype": "text/x-python",
   "name": "python",
   "nbconvert_exporter": "python",
   "pygments_lexer": "ipython3",
   "version": "3.11.12"
  }
 },
 "nbformat": 4,
 "nbformat_minor": 5
}
